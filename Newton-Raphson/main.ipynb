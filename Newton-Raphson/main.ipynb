{
 "cells": [
  {
   "cell_type": "code",
   "execution_count": 5,
   "metadata": {},
   "outputs": [
    {
     "name": "stdout",
     "output_type": "stream",
     "text": [
      "4 iterasyon sonra çözüm bulundu.\n",
      "Fonksiyonun kökü: 2.4999999999836158\n"
     ]
    }
   ],
   "source": [
    "def newton_raphson_method(f, df, x0, tol=1e-6, max_iter=1000):\n",
    "    \"\"\"\n",
    "    Newton-Raphson yöntemi kullanarak f(x) fonksiyonunun kökünü bulun.\n",
    "\n",
    "    Parametreler:\n",
    "    f (fonksiyon): Kökünü bulmaya çalıştığımız fonksiyon.\n",
    "    df (fonksiyon): f fonksiyonunun türevi.\n",
    "    x0 (float): Kök için başlangıç tahmini.\n",
    "    tol (float): Kök yaklaşımı için tolerans.\n",
    "    max_iter (int): Maksimum iterasyon sayısı.\n",
    "\n",
    "    Döndürür:\n",
    "    float: Fonksiyonun yaklaşık kökü.\n",
    "    \"\"\"\n",
    "    xn = x0\n",
    "    for n in range(max_iter):\n",
    "        fxn = f(xn)\n",
    "        if abs(fxn) < tol:\n",
    "            print(f\"{n} iterasyon sonra çözüm bulundu.\")\n",
    "            return xn\n",
    "        dfxn = df(xn)\n",
    "        if dfxn == 0:\n",
    "            print(\"Sıfır türev. Çözüm bulunamadı.\")\n",
    "            return None\n",
    "        xn = xn - fxn / dfxn\n",
    "    print(\"Maksimum iterasyon aşıldı. Çözüm bulunamadı.\")\n",
    "    return None\n",
    "\n",
    "# Örnek kullanım:\n",
    "# Fonksiyonu ve türevini tanımlayın\n",
    "f = lambda x : 5/x - 2\n",
    "df = lambda x : -5/x**2\n",
    "\n",
    "# Başlangıç tahmini\n",
    "x0 = 3\n",
    "\n",
    "# Kökü bul\n",
    "root = newton_raphson_method(f, df, x0)\n",
    "print(\"Fonksiyonun kökü:\", root)\n"
   ]
  }
 ],
 "metadata": {
  "kernelspec": {
   "display_name": "Python 3",
   "language": "python",
   "name": "python3"
  },
  "language_info": {
   "codemirror_mode": {
    "name": "ipython",
    "version": 3
   },
   "file_extension": ".py",
   "mimetype": "text/x-python",
   "name": "python",
   "nbconvert_exporter": "python",
   "pygments_lexer": "ipython3",
   "version": "3.11.3"
  }
 },
 "nbformat": 4,
 "nbformat_minor": 2
}
